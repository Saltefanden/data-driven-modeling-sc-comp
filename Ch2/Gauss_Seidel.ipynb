{
 "cells": [
  {
   "cell_type": "code",
   "execution_count": 1,
   "id": "ed7efef1-0ba7-471c-b1a6-ffd63f7be720",
   "metadata": {},
   "outputs": [],
   "source": [
    "import numpy as np"
   ]
  },
  {
   "cell_type": "code",
   "execution_count": null,
   "id": "71b70793-834c-43c2-b80a-24e41214fcb9",
   "metadata": {},
   "outputs": [],
   "source": [
    "def gs(A, b, x0=None, tol = 0.001):\n",
    "    \"\"\"Solve systems of Ax=b iteratively using jacobi scheme\"\"\"\n",
    "    if x0 is None:\n",
    "        x0 = np.ones(b.shape)\n",
    "    Ad = np.diag(A)\n",
    "    Ah = A - Ad * np.eye(A.shape[0])\n",
    "    x = x0\n",
    "    error = sum(A@x - b)\n",
    "    it = 0\n",
    "    while abs(error) > tol:\n",
    "        it = it + 1\n",
    "        m = Ah @ x\n",
    "        x = (b - m)/Ad\n",
    "        error = sum(A@x - b)\n",
    "        if abs(error) > 1_000_000:\n",
    "            print(\"Error too large\")\n",
    "            return\n",
    "        if it > 10_000:\n",
    "            print(\"Error at: \", error)\n",
    "            print(\"Too many iterations\")\n",
    "            return\n",
    "            \n",
    "    print(f\"After {it} iterations x: \", x)"
   ]
  }
 ],
 "metadata": {
  "kernelspec": {
   "display_name": "Python 3 (ipykernel)",
   "language": "python",
   "name": "python3"
  },
  "language_info": {
   "codemirror_mode": {
    "name": "ipython",
    "version": 3
   },
   "file_extension": ".py",
   "mimetype": "text/x-python",
   "name": "python",
   "nbconvert_exporter": "python",
   "pygments_lexer": "ipython3",
   "version": "3.10.14"
  }
 },
 "nbformat": 4,
 "nbformat_minor": 5
}
