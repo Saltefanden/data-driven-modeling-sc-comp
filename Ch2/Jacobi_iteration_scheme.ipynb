{
 "cells": [
  {
   "cell_type": "code",
   "execution_count": 1,
   "id": "636f6cea-9c36-40ce-9a59-38f85e6fa84d",
   "metadata": {},
   "outputs": [],
   "source": [
    "import numpy as np"
   ]
  },
  {
   "cell_type": "code",
   "execution_count": 122,
   "id": "152a27ed-bb38-4a97-876f-ad24e10234e0",
   "metadata": {},
   "outputs": [],
   "source": [
    "def jac(A, b, x0=None, tol = 0.001):\n",
    "    \"\"\"Solve systems of Ax=b iteratively using jacobi scheme\"\"\"\n",
    "    if x0 is None:\n",
    "        x0 = np.ones(b.shape)\n",
    "    Ad = np.diag(A)\n",
    "    Ah = A - Ad * np.eye(A.shape[0])\n",
    "    x = x0\n",
    "    error = sum(A@x - b)\n",
    "    it = 0\n",
    "    while abs(error) > tol:\n",
    "        it = it + 1\n",
    "        m = Ah @ x\n",
    "        x = (b - m)/Ad\n",
    "        error = sum(A@x - b)\n",
    "        if abs(error) > 1_000_000:\n",
    "            print(\"Error too large\")\n",
    "            return\n",
    "        if it > 10_000:\n",
    "            print(\"Error at: \", error)\n",
    "            print(\"Too many iterations\")\n",
    "            return\n",
    "            \n",
    "    print(f\"After {it} iterations x: \", x)"
   ]
  },
  {
   "cell_type": "code",
   "execution_count": 134,
   "id": "6125d681-f873-4a55-ba4b-1fe2e4a5ca6c",
   "metadata": {},
   "outputs": [
    {
     "name": "stdout",
     "output_type": "stream",
     "text": [
      "[ 15 -21   7] [  7 -21  15]\n"
     ]
    }
   ],
   "source": [
    "A = np.array([\n",
    "    [4, -1, 1],\n",
    "    [4, -8, 1],\n",
    "    [-2, 1, 5],\n",
    "])\n",
    "\n",
    "A = np.array([\n",
    "    [-2, 1, 5],\n",
    "    [4, -8, 1],\n",
    "    [4, -1, 1],\n",
    "])\n",
    "\n",
    "b = np.array([7, -21, 15])\n",
    "\n",
    "xx = np.array([2, 4, 3])\n",
    "\n",
    "print( A @ xx, b)"
   ]
  },
  {
   "cell_type": "code",
   "execution_count": 135,
   "id": "afb55883-f77d-4d81-82c3-8ad13b0e4fce",
   "metadata": {},
   "outputs": [
    {
     "name": "stdout",
     "output_type": "stream",
     "text": [
      "Error too large\n"
     ]
    }
   ],
   "source": [
    "jac(A, b, x0=np.array([1, 2, 1.5]), tol=1e-9)"
   ]
  },
  {
   "cell_type": "code",
   "execution_count": null,
   "id": "25eb8fe7-c6fc-42ca-bca4-b8cb0787b9ca",
   "metadata": {},
   "outputs": [],
   "source": []
  }
 ],
 "metadata": {
  "kernelspec": {
   "display_name": "Python 3 (ipykernel)",
   "language": "python",
   "name": "python3"
  },
  "language_info": {
   "codemirror_mode": {
    "name": "ipython",
    "version": 3
   },
   "file_extension": ".py",
   "mimetype": "text/x-python",
   "name": "python",
   "nbconvert_exporter": "python",
   "pygments_lexer": "ipython3",
   "version": "3.10.14"
  }
 },
 "nbformat": 4,
 "nbformat_minor": 5
}
